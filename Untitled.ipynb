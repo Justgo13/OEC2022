{
 "cells": [
  {
   "cell_type": "code",
   "execution_count": 1,
   "id": "advanced-forth",
   "metadata": {},
   "outputs": [],
   "source": [
    "import numpy as np\n",
    "import pandas as pd\n",
    "from scipy.spatial.distance import cdist"
   ]
  },
  {
   "cell_type": "code",
   "execution_count": 2,
   "id": "static-lithuania",
   "metadata": {},
   "outputs": [],
   "source": [
    "A=1\n",
    "B=1\n",
    "CSV_FILE = 'test_100_recycle.csv'"
   ]
  },
  {
   "cell_type": "code",
   "execution_count": 3,
   "id": "postal-builder",
   "metadata": {},
   "outputs": [],
   "source": [
    "all_objects = pd.read_csv(CSV_FILE, names=['id', 'longitude', 'lattitude', 'type', 'mass', 'risk'])\n",
    "df_waste = all_objects[all_objects['type'] == 'waste']\n",
    "df_local_sort = all_objects[all_objects['type'] == 'local_sorting_facility']\n",
    "df_regional_sort = all_objects[all_objects['type'] == 'regional_sorting_facility']\n",
    "df_regional_recycling = all_objects[all_objects['type'] == 'regional_recycling_facility']"
   ]
  },
  {
   "cell_type": "code",
   "execution_count": 4,
   "id": "advanced-sample",
   "metadata": {},
   "outputs": [
    {
     "data": {
      "text/html": [
       "<div>\n",
       "<style scoped>\n",
       "    .dataframe tbody tr th:only-of-type {\n",
       "        vertical-align: middle;\n",
       "    }\n",
       "\n",
       "    .dataframe tbody tr th {\n",
       "        vertical-align: top;\n",
       "    }\n",
       "\n",
       "    .dataframe thead th {\n",
       "        text-align: right;\n",
       "    }\n",
       "</style>\n",
       "<table border=\"1\" class=\"dataframe\">\n",
       "  <thead>\n",
       "    <tr style=\"text-align: right;\">\n",
       "      <th></th>\n",
       "      <th>id</th>\n",
       "      <th>longitude</th>\n",
       "      <th>lattitude</th>\n",
       "      <th>type</th>\n",
       "      <th>mass</th>\n",
       "      <th>risk</th>\n",
       "    </tr>\n",
       "  </thead>\n",
       "  <tbody>\n",
       "    <tr>\n",
       "      <th>100</th>\n",
       "      <td>100</td>\n",
       "      <td>19</td>\n",
       "      <td>85</td>\n",
       "      <td>local_sorting_facility</td>\n",
       "      <td>0</td>\n",
       "      <td>0.065156</td>\n",
       "    </tr>\n",
       "    <tr>\n",
       "      <th>101</th>\n",
       "      <td>101</td>\n",
       "      <td>-26</td>\n",
       "      <td>27</td>\n",
       "      <td>local_sorting_facility</td>\n",
       "      <td>0</td>\n",
       "      <td>0.061834</td>\n",
       "    </tr>\n",
       "    <tr>\n",
       "      <th>102</th>\n",
       "      <td>102</td>\n",
       "      <td>69</td>\n",
       "      <td>59</td>\n",
       "      <td>local_sorting_facility</td>\n",
       "      <td>0</td>\n",
       "      <td>0.066525</td>\n",
       "    </tr>\n",
       "    <tr>\n",
       "      <th>103</th>\n",
       "      <td>103</td>\n",
       "      <td>7</td>\n",
       "      <td>-15</td>\n",
       "      <td>local_sorting_facility</td>\n",
       "      <td>0</td>\n",
       "      <td>0.025697</td>\n",
       "    </tr>\n",
       "    <tr>\n",
       "      <th>104</th>\n",
       "      <td>104</td>\n",
       "      <td>18</td>\n",
       "      <td>-86</td>\n",
       "      <td>local_sorting_facility</td>\n",
       "      <td>0</td>\n",
       "      <td>0.090104</td>\n",
       "    </tr>\n",
       "  </tbody>\n",
       "</table>\n",
       "</div>"
      ],
      "text/plain": [
       "      id  longitude  lattitude                    type  mass      risk\n",
       "100  100         19         85  local_sorting_facility     0  0.065156\n",
       "101  101        -26         27  local_sorting_facility     0  0.061834\n",
       "102  102         69         59  local_sorting_facility     0  0.066525\n",
       "103  103          7        -15  local_sorting_facility     0  0.025697\n",
       "104  104         18        -86  local_sorting_facility     0  0.090104"
      ]
     },
     "execution_count": 4,
     "metadata": {},
     "output_type": "execute_result"
    }
   ],
   "source": [
    "df_local_sort.head()"
   ]
  },
  {
   "cell_type": "code",
   "execution_count": 5,
   "id": "warming-background",
   "metadata": {},
   "outputs": [
    {
     "data": {
      "text/html": [
       "<div>\n",
       "<style scoped>\n",
       "    .dataframe tbody tr th:only-of-type {\n",
       "        vertical-align: middle;\n",
       "    }\n",
       "\n",
       "    .dataframe tbody tr th {\n",
       "        vertical-align: top;\n",
       "    }\n",
       "\n",
       "    .dataframe thead th {\n",
       "        text-align: right;\n",
       "    }\n",
       "</style>\n",
       "<table border=\"1\" class=\"dataframe\">\n",
       "  <thead>\n",
       "    <tr style=\"text-align: right;\">\n",
       "      <th></th>\n",
       "      <th>id</th>\n",
       "      <th>longitude</th>\n",
       "      <th>lattitude</th>\n",
       "      <th>type</th>\n",
       "      <th>mass</th>\n",
       "      <th>risk</th>\n",
       "    </tr>\n",
       "  </thead>\n",
       "  <tbody>\n",
       "    <tr>\n",
       "      <th>552</th>\n",
       "      <td>552</td>\n",
       "      <td>13</td>\n",
       "      <td>111</td>\n",
       "      <td>regional_sorting_facility</td>\n",
       "      <td>0</td>\n",
       "      <td>0.042161</td>\n",
       "    </tr>\n",
       "    <tr>\n",
       "      <th>553</th>\n",
       "      <td>553</td>\n",
       "      <td>53</td>\n",
       "      <td>-113</td>\n",
       "      <td>regional_sorting_facility</td>\n",
       "      <td>0</td>\n",
       "      <td>0.094193</td>\n",
       "    </tr>\n",
       "    <tr>\n",
       "      <th>554</th>\n",
       "      <td>554</td>\n",
       "      <td>-7</td>\n",
       "      <td>115</td>\n",
       "      <td>regional_sorting_facility</td>\n",
       "      <td>0</td>\n",
       "      <td>0.089948</td>\n",
       "    </tr>\n",
       "    <tr>\n",
       "      <th>555</th>\n",
       "      <td>555</td>\n",
       "      <td>15</td>\n",
       "      <td>63</td>\n",
       "      <td>regional_sorting_facility</td>\n",
       "      <td>0</td>\n",
       "      <td>0.025559</td>\n",
       "    </tr>\n",
       "    <tr>\n",
       "      <th>556</th>\n",
       "      <td>556</td>\n",
       "      <td>-19</td>\n",
       "      <td>124</td>\n",
       "      <td>regional_sorting_facility</td>\n",
       "      <td>0</td>\n",
       "      <td>0.013435</td>\n",
       "    </tr>\n",
       "  </tbody>\n",
       "</table>\n",
       "</div>"
      ],
      "text/plain": [
       "      id  longitude  lattitude                       type  mass      risk\n",
       "552  552         13        111  regional_sorting_facility     0  0.042161\n",
       "553  553         53       -113  regional_sorting_facility     0  0.094193\n",
       "554  554         -7        115  regional_sorting_facility     0  0.089948\n",
       "555  555         15         63  regional_sorting_facility     0  0.025559\n",
       "556  556        -19        124  regional_sorting_facility     0  0.013435"
      ]
     },
     "execution_count": 5,
     "metadata": {},
     "output_type": "execute_result"
    }
   ],
   "source": [
    "df_regional_sort.head()"
   ]
  },
  {
   "cell_type": "code",
   "execution_count": 6,
   "id": "atmospheric-quick",
   "metadata": {},
   "outputs": [
    {
     "data": {
      "text/plain": [
       "293522913"
      ]
     },
     "execution_count": 6,
     "metadata": {},
     "output_type": "execute_result"
    }
   ],
   "source": [
    "total_waste = df_waste['mass'].sum()\n",
    "total_waste"
   ]
  },
  {
   "cell_type": "code",
   "execution_count": 7,
   "id": "short-gauge",
   "metadata": {},
   "outputs": [],
   "source": []
  },
  {
   "cell_type": "code",
   "execution_count": null,
   "id": "selective-packaging",
   "metadata": {},
   "outputs": [],
   "source": []
  },
  {
   "cell_type": "code",
   "execution_count": 8,
   "id": "occupied-editor",
   "metadata": {},
   "outputs": [],
   "source": [
    "def get_xy(df):\n",
    "    return df[['longitude','longitude']].to_numpy()\n",
    "def get_combination_dist(df,df2):\n",
    "    ar1 = get_xy(df)\n",
    "    ar2 = get_xy(df2)\n",
    "    return cdist(ar1, ar2)\n",
    "def get_min(ar):\n",
    "    return np.argmin(ar), np.min(ar)"
   ]
  },
  {
   "cell_type": "code",
   "execution_count": 46,
   "id": "occupational-booking",
   "metadata": {},
   "outputs": [],
   "source": [
    "distance_cost= (A+B)*get_combination_dist(df_local_sort, df_regional_sort)"
   ]
  },
  {
   "cell_type": "code",
   "execution_count": null,
   "id": "apparent-trace",
   "metadata": {},
   "outputs": [],
   "source": []
  },
  {
   "cell_type": "code",
   "execution_count": null,
   "id": "civilian-scheme",
   "metadata": {},
   "outputs": [],
   "source": []
  },
  {
   "cell_type": "code",
   "execution_count": null,
   "id": "accredited-springer",
   "metadata": {},
   "outputs": [],
   "source": []
  },
  {
   "cell_type": "code",
   "execution_count": null,
   "id": "magnetic-typing",
   "metadata": {},
   "outputs": [],
   "source": []
  },
  {
   "cell_type": "code",
   "execution_count": null,
   "id": "hazardous-repository",
   "metadata": {},
   "outputs": [],
   "source": []
  },
  {
   "cell_type": "code",
   "execution_count": 47,
   "id": "joined-preservation",
   "metadata": {},
   "outputs": [],
   "source": [
    "risk_matrix = A*(1-np.outer(1-df_local_sort['risk'].to_numpy(),1-df_regional_sort['risk'].to_numpy()))"
   ]
  },
  {
   "cell_type": "code",
   "execution_count": 48,
   "id": "ethical-galaxy",
   "metadata": {},
   "outputs": [],
   "source": [
    "cost_matrix=risk_matrix+distance_cost"
   ]
  },
  {
   "cell_type": "code",
   "execution_count": 49,
   "id": "thirty-salon",
   "metadata": {},
   "outputs": [
    {
     "data": {
      "text/plain": [
       "(452, 352)"
      ]
     },
     "execution_count": 49,
     "metadata": {},
     "output_type": "execute_result"
    }
   ],
   "source": [
    "cost_matrix.shape"
   ]
  },
  {
   "cell_type": "code",
   "execution_count": 50,
   "id": "institutional-assembly",
   "metadata": {},
   "outputs": [],
   "source": [
    "row, column = cost_matrix.argmin()//cost_matrix.shape[1], cost_matrix.argmin()%cost_matrix.shape[1]"
   ]
  },
  {
   "cell_type": "code",
   "execution_count": 51,
   "id": "bearing-plenty",
   "metadata": {},
   "outputs": [
    {
     "data": {
      "text/plain": [
       "186.77955748385287"
      ]
     },
     "execution_count": 51,
     "metadata": {},
     "output_type": "execute_result"
    }
   ],
   "source": [
    "cost_matrix[column][row]"
   ]
  },
  {
   "cell_type": "code",
   "execution_count": 52,
   "id": "reduced-square",
   "metadata": {},
   "outputs": [],
   "source": [
    "selected_local_sort = df_local_sort.iloc[row] \n",
    "selected_region_sort = df_local_sort.iloc[column]"
   ]
  },
  {
   "cell_type": "code",
   "execution_count": 53,
   "id": "metallic-client",
   "metadata": {},
   "outputs": [],
   "source": [
    "dist_arg1 = df_regional_recycling['longitude'].to_numpy()-selected_region_sort.longitude\n",
    "dist_arg2 = df_regional_recycling['lattitude'].to_numpy()-selected_region_sort.lattitude\n",
    "dist_args=np.square(dist_arg1)+np.square(dist_arg2)"
   ]
  },
  {
   "cell_type": "code",
   "execution_count": 54,
   "id": "illegal-calculator",
   "metadata": {},
   "outputs": [],
   "source": [
    "selected_recycle = df_regional_recycling.iloc[np.argmin(dist_args)]"
   ]
  },
  {
   "cell_type": "code",
   "execution_count": 55,
   "id": "funky-thought",
   "metadata": {},
   "outputs": [
    {
     "data": {
      "text/plain": [
       "id                                  1049\n",
       "longitude                             70\n",
       "lattitude                            -40\n",
       "type         regional_recycling_facility\n",
       "mass                                   0\n",
       "risk                            0.087704\n",
       "Name: 1049, dtype: object"
      ]
     },
     "execution_count": 55,
     "metadata": {},
     "output_type": "execute_result"
    }
   ],
   "source": [
    "selected_recycle"
   ]
  },
  {
   "cell_type": "code",
   "execution_count": 56,
   "id": "comfortable-temperature",
   "metadata": {},
   "outputs": [],
   "source": [
    "dist_x = df_waste['longitude'].to_numpy()-selected_recycle.longitude\n",
    "dist_y = df_waste['lattitude'].to_numpy()-selected_recycle.lattitude\n",
    "distances=np.square(dist_x)+np.square(dist_y)"
   ]
  },
  {
   "cell_type": "code",
   "execution_count": 57,
   "id": "peaceful-chemistry",
   "metadata": {},
   "outputs": [],
   "source": [
    "final_node = df_waste.iloc[np.argmin(distances)]"
   ]
  },
  {
   "cell_type": "code",
   "execution_count": 58,
   "id": "funded-coordinator",
   "metadata": {},
   "outputs": [
    {
     "data": {
      "text/plain": [
       "id                18\n",
       "longitude         72\n",
       "lattitude        -39\n",
       "type           waste\n",
       "mass         4729550\n",
       "risk             0.0\n",
       "Name: 18, dtype: object"
      ]
     },
     "execution_count": 58,
     "metadata": {},
     "output_type": "execute_result"
    }
   ],
   "source": [
    "final_node"
   ]
  },
  {
   "cell_type": "code",
   "execution_count": 59,
   "id": "junior-classics",
   "metadata": {},
   "outputs": [],
   "source": [
    "def get_distance(node1, node2):\n",
    "    return ((node1['lattitude']-node2['lattitude'])**2+(node1['lattitude']-node2['lattitude'])**2)**0.5"
   ]
  },
  {
   "cell_type": "code",
   "execution_count": 60,
   "id": "electoral-pocket",
   "metadata": {},
   "outputs": [
    {
     "data": {
      "text/plain": [
       "id                18\n",
       "longitude         72\n",
       "lattitude        -39\n",
       "type           waste\n",
       "mass         4729550\n",
       "risk             0.0\n",
       "Name: 18, dtype: object"
      ]
     },
     "execution_count": 60,
     "metadata": {},
     "output_type": "execute_result"
    }
   ],
   "source": [
    "final_node"
   ]
  },
  {
   "cell_type": "code",
   "execution_count": 62,
   "id": "yellow-glory",
   "metadata": {},
   "outputs": [],
   "source": [
    "s = [1,2,3,4]\n",
    "s+=[5,6,7,8]"
   ]
  },
  {
   "cell_type": "code",
   "execution_count": 65,
   "id": "documented-aspect",
   "metadata": {},
   "outputs": [
    {
     "data": {
      "text/plain": [
       "18"
      ]
     },
     "execution_count": 65,
     "metadata": {},
     "output_type": "execute_result"
    }
   ],
   "source": [
    "final_node['id']"
   ]
  },
  {
   "cell_type": "code",
   "execution_count": null,
   "id": "caroline-software",
   "metadata": {},
   "outputs": [],
   "source": []
  }
 ],
 "metadata": {
  "kernelspec": {
   "display_name": "Python 3",
   "language": "python",
   "name": "python3"
  },
  "language_info": {
   "codemirror_mode": {
    "name": "ipython",
    "version": 3
   },
   "file_extension": ".py",
   "mimetype": "text/x-python",
   "name": "python",
   "nbconvert_exporter": "python",
   "pygments_lexer": "ipython3",
   "version": "3.8.10"
  }
 },
 "nbformat": 4,
 "nbformat_minor": 5
}
